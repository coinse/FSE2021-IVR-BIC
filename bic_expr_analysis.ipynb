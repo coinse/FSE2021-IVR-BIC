{
 "cells": [
  {
   "cell_type": "markdown",
   "metadata": {},
   "source": [
    "# Configuration"
   ]
  },
  {
   "cell_type": "code",
   "execution_count": null,
   "metadata": {
    "tags": []
   },
   "outputs": [],
   "source": [
    "import pandas as pd\n",
    "import numpy as np\n",
    "import os\n",
    "from matplotlib import pyplot as plt\n",
    "import seaborn as sns\n",
    "\n",
    "plt.rc('text', usetex=True)\n",
    "\n",
    "\"\"\"\n",
    "setup the directory to save figures\n",
    "\"\"\"\n",
    "FIGURE_DIR = './figures'\n",
    "if not os.path.exists(FIGURE_DIR):\n",
    "    os.mkdir(FIGURE_DIR)\n",
    "\n",
    "path_to_result = \"./resources/workspace/bic_expr.pkl\"\n",
    "path_to_fault_numstat = \"./resources/workspace/resources/fault_numstat.csv\""
   ]
  },
  {
   "cell_type": "markdown",
   "metadata": {},
   "source": [
    "# Loading Data"
   ]
  },
  {
   "cell_type": "code",
   "execution_count": null,
   "metadata": {},
   "outputs": [],
   "source": [
    "\"\"\"\n",
    "join the BIC result file and the bug metadata\n",
    "\"\"\"\n",
    "df = pd.read_pickle(path_to_result).set_index(['pid', 'vid'])\n",
    "numstat = pd.read_csv(path_to_fault_numstat)\n",
    "numstat['vid'] = numstat['vid'].apply(str)\n",
    "df = df.join(numstat.set_index(['pid', 'vid']))\n",
    "\n",
    "\"\"\"\n",
    "is_wen_in_dyn: True if the BIC identified by Wen et al. is contained in the reduced BIC search space, otherwise False\n",
    "is_omission_fault: True if no lines are deleted in the commit, otherwise False\n",
    "\"\"\"\n",
    "df['has_szz_results'] = df['has_szz_results'].astype(bool) # convert to boolean\n",
    "df['has_wen_bic'] = df['has_wen_bic'].astype(bool) # convert to boolean\n",
    "df['is_wen_in_dyn'] = df['is_wen_in_dyn'].astype(bool) # convert to boolean\n",
    "df['is_omission_fault'] = df['deletions'] == 0\n",
    "df = df.reset_index()\n",
    "df"
   ]
  },
  {
   "cell_type": "code",
   "execution_count": null,
   "metadata": {},
   "outputs": [],
   "source": [
    "print(df.groupby('pid').vid.count().sum())\n",
    "print(df.groupby('pid').has_szz_results.sum().sum())"
   ]
  },
  {
   "cell_type": "code",
   "execution_count": null,
   "metadata": {},
   "outputs": [],
   "source": [
    "\"\"\"\n",
    "Get the average number of commits for each project\n",
    "\"\"\"\n",
    "df.groupby('pid')['num_total_commits'].agg(['mean']).round(1)"
   ]
  },
  {
   "cell_type": "code",
   "execution_count": null,
   "metadata": {},
   "outputs": [],
   "source": [
    "df[(df.pid=='Lang') & (df.vid=='51')]"
   ]
  },
  {
   "cell_type": "markdown",
   "metadata": {},
   "source": [
    "# BIC search space reduction"
   ]
  },
  {
   "cell_type": "code",
   "execution_count": null,
   "metadata": {
    "tags": []
   },
   "outputs": [],
   "source": [
    "\"\"\"\n",
    "Distributions of the ratio of the number of BIC candidates to the total number of commits\n",
    "\"\"\"\n",
    "\n",
    "plt.figure(figsize=(7,3.8))\n",
    "df['total_reduction'] = (df.num_dyn/df.num_total_commits)\n",
    "sns.boxplot(data=df.reset_index(), x='total_reduction', y='pid')\n",
    "plt.ylabel(\"Project\")\n",
    "plt.xlabel(\"Ratio of BIC candidates ($|C_{BIC}|/|C|$)\")\n",
    "plt.xlim((-0.05, 1.05))\n",
    "plt.grid(axis='x')\n",
    "\n",
    "\"\"\"\n",
    "Print the median value\n",
    "\"\"\"\n",
    "y = 0\n",
    "for pid, g in df.groupby(['pid']):\n",
    "    x = g['total_reduction'].max()\n",
    "    plt.text(x + 0.02, y,\n",
    "        \"{:.3f}\".format(g['total_reduction'].median()),\n",
    "        verticalalignment='center')\n",
    "    y += 1\n",
    "\n",
    "plt.savefig(os.path.join(FIGURE_DIR, 'd4j_space_reduction.pdf'), bbox_inches='tight')\n",
    "plt.show()\n",
    "\n",
    "print(f\"{round((1 - df.total_reduction.mean()) * 100, 1)}% of total commits are filtered out by using the failure coverage\")"
   ]
  },
  {
   "cell_type": "markdown",
   "metadata": {},
   "source": [
    "# Soundness Verification"
   ]
  },
  {
   "cell_type": "code",
   "execution_count": null,
   "metadata": {
    "tags": []
   },
   "outputs": [],
   "source": [
    "tdf = df[df.has_wen_bic].copy()\n",
    "tdf['wen_short'] = tdf['wen'].apply(lambda s: str(s)[:7]) # short commit hash\n",
    "tdf['bid'] = tdf['pid'] + '-' + tdf['vid'] + 'b'\n",
    "\n",
    "\n",
    "\"\"\"\n",
    "Draw the pie chart\n",
    "\"\"\"\n",
    "fig, ax = plt.subplots(figsize=(3, 3))\n",
    "size = 0.4\n",
    "vals = np.array([[49., 18.], [8, 6]])\n",
    "cmap = sns.color_palette('hls', 8)\n",
    "outer_colors = [cmap[5], 'lightgray']\n",
    "inner_colors = ['w', cmap[1], 'w', cmap[1],]\n",
    "ax.pie(vals.sum(axis=1), radius=1, colors=outer_colors,\n",
    "       wedgeprops=dict(width=size, edgecolor='black'),\n",
    "       startangle=120, \n",
    "       counterclock=True,\n",
    "       labels=['In $C_{BIC}$', 'Not in $C_{BIC}$'],\n",
    "       autopct=lambda p : '{:d}'.format(int(round(p*81/100, 0))),\n",
    "       labeldistance=1.1,\n",
    "       pctdistance=0.8\n",
    ")\n",
    "\n",
    "pie = ax.pie(vals.flatten(), radius=1-size, colors=inner_colors,\n",
    "       startangle=120, \n",
    "       counterclock=True,\n",
    "       wedgeprops=dict(width=0.4, edgecolor='black'),\n",
    "       autopct=lambda p : '{:d}'.format(int(round(p*81/100, 0))),\n",
    "       pctdistance=0.7,\n",
    ")\n",
    "plt.legend(pie[0], [\"No\", \"Yes\"], title=\"Omission Fault\", bbox_to_anchor=(0.5, 1.2), loc='center')\n",
    "plt.savefig(os.path.join(FIGURE_DIR, \"verification.pdf\"), bbox_inches='tight')\n",
    "plt.show()"
   ]
  },
  {
   "cell_type": "code",
   "execution_count": null,
   "metadata": {},
   "outputs": [],
   "source": [
    "\"\"\"\n",
    "Get the list of commits (the identified BICs) that are not contained in the BIC candidate set obtained using failure coverage\n",
    "\"\"\"\n",
    "tdf[~tdf.is_wen_in_dyn][['bid', 'wen_short', 'is_omission_fault']]"
   ]
  },
  {
   "cell_type": "markdown",
   "metadata": {},
   "source": [
    "# Improving SZZ precision"
   ]
  },
  {
   "cell_type": "code",
   "execution_count": null,
   "metadata": {},
   "outputs": [],
   "source": [
    "plt.figure(figsize=(7,3.5))\n",
    "szz_df = df[df['has_szz_results'] == True]\n",
    "szz_df_non_zero = szz_df[szz_df['num_szz'] != 0].copy()\n",
    "szz_df_non_zero['szz_filtered_out'] = szz_df_non_zero['num_only_szz']/szz_df_non_zero['num_szz']\n",
    "sns.boxplot(data=szz_df_non_zero.reset_index(), x='szz_filtered_out', y='pid')\n",
    "plt.ylabel(\"Project\")\n",
    "plt.xlabel(\"Ratio of SZZ-identified BIC not contained in $C_{BIC}$\")\n",
    "plt.xlim((-0.05, 1.05))\n",
    "plt.grid(axis='x')\n",
    "plt.savefig(os.path.join(FIGURE_DIR, 'szz_filtered_out.pdf'), bbox_inches='tight')\n",
    "plt.show()\n",
    "print(f\"{round(szz_df_non_zero.szz_filtered_out.mean()*100, 1)}% of commits found by SZZ can be filtered out by the dynamic analysis\")\n"
   ]
  },
  {
   "cell_type": "code",
   "execution_count": null,
   "metadata": {},
   "outputs": [],
   "source": [
    "100-87.6"
   ]
  },
  {
   "cell_type": "code",
   "execution_count": null,
   "metadata": {},
   "outputs": [],
   "source": []
  }
 ],
 "metadata": {
  "kernelspec": {
   "display_name": "Python 3.9.1 64-bit ('bic-env': pyenv)",
   "name": "python391jvsc74a57bd03b08bfddf37c2d146e89c50b682364cee1ca7192dc9b27ade152db8ca56e8cbb"
  },
  "language_info": {
   "codemirror_mode": {
    "name": "ipython",
    "version": 3
   },
   "file_extension": ".py",
   "mimetype": "text/x-python",
   "name": "python",
   "nbconvert_exporter": "python",
   "pygments_lexer": "ipython3",
   "version": "3.9.1"
  },
  "metadata": {
   "interpreter": {
    "hash": "3b08bfddf37c2d146e89c50b682364cee1ca7192dc9b27ade152db8ca56e8cbb"
   }
  },
  "orig_nbformat": 2
 },
 "nbformat": 4,
 "nbformat_minor": 2
}